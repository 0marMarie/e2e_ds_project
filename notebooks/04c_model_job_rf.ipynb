{
 "cells": [
  {
   "cell_type": "code",
   "execution_count": 1,
   "id": "6824b842-9cf8-40fb-9792-ec3b17167001",
   "metadata": {},
   "outputs": [],
   "source": [
    "DF_PATH       = \"../data/processed/2_cleaned_data.pkl\"\n",
    "\n",
    "ROLE_COLS      = ['DevType']\n",
    "TECH_COLS      = ['LanguageHaveWorkedWith',\n",
    "                  'DatabaseHaveWorkedWith',\n",
    "                  #'PlatformHaveWorkedWith',\n",
    "                  'WebframeHaveWorkedWith',\n",
    "                  'MiscTechHaveWorkedWith',\n",
    "                  'ToolsTechHaveWorkedWith',\n",
    "                  'NEWCollabToolsHaveWorkedWith',\n",
    "                  ]\n",
    "\n",
    "EXPERIMENT_NAME = \"skills_jobs_stackoverflow\"\n",
    "\n",
    "LOG_PATH = \"../models/temp/random_forest/\"\n",
    "LOG_DATA_PKL    =  \"data.pkl\"\n",
    "LOG_MODEL_PKL   =  \"model.pkl\"\n",
    "LOG_METRICS_PKL =  \"metrics.pkl\""
   ]
  },
  {
   "cell_type": "code",
   "execution_count": 2,
   "id": "d23c1608-0388-4846-bef3-d6cb67ed7539",
   "metadata": {
    "tags": []
   },
   "outputs": [],
   "source": [
    "# Load packages\n",
    "import pandas as pd \n",
    "import numpy as np\n",
    "import logging\n",
    "import pickle\n",
    "import random\n",
    "import plotly \n",
    "import os\n",
    "from pathlib import Path\n",
    "\n",
    "import mlflow\n",
    "from mlflow.tracking import MlflowClient\n",
    "\n",
    "from sklearn.preprocessing import MultiLabelBinarizer\n",
    "from sklearn.preprocessing import StandardScaler, RobustScaler, MinMaxScaler\n",
    "from sklearn.pipeline import make_pipeline, FeatureUnion\n",
    "from sklearn.feature_selection import VarianceThreshold\n",
    "from sklearn.multioutput import MultiOutputClassifier\n",
    "from sklearn.model_selection import train_test_split\n",
    "from sklearn.model_selection import GridSearchCV\n",
    "\n",
    "from sklearn import metrics\n",
    "from sklearn.metrics import auc, accuracy_score, confusion_matrix, f1_score, precision_score, recall_score\n",
    "\n",
    "from sklearn.decomposition import PCA, KernelPCA\n",
    "\n",
    "from sklearn import tree\n",
    "from sklearn.linear_model import LogisticRegression\n",
    "from sklearn.ensemble import AdaBoostClassifier\n",
    "from sklearn.ensemble import RandomForestClassifier\n",
    "from sklearn.neighbors import KNeighborsClassifier\n",
    "\n",
    "from matplotlib import pyplot as plt"
   ]
  },
  {
   "cell_type": "markdown",
   "id": "ebf3f245-5fe8-4f1a-a135-a9a670419bc5",
   "metadata": {},
   "source": [
    "_________"
   ]
  },
  {
   "cell_type": "markdown",
   "id": "717dc150-ba0c-48a2-9cfc-a6d259cff5c0",
   "metadata": {
    "tags": []
   },
   "source": [
    "### Functions"
   ]
  },
  {
   "cell_type": "code",
   "execution_count": 3,
   "id": "91508beb-46d3-416f-a359-cbd9f234afe8",
   "metadata": {},
   "outputs": [],
   "source": [
    "def calculate_quality(ground_truth, predictions, metric_function, sort_values=False):\n",
    "    quality_scores = {}\n",
    "    for col in predictions.columns:\n",
    "        role_pred  = predictions[col].copy()\n",
    "        role_truth = ground_truth[col].copy()\n",
    "        quality_scores[col] = round(metric_function(role_truth, role_pred) * 100, 2)\n",
    "        \n",
    "    quality_scores = pd.Series(quality_scores.values(), index=quality_scores.keys())\n",
    "    if sort_values:\n",
    "        quality_scores = quality_scores.sort_values()\n",
    "    \n",
    "    return quality_scores"
   ]
  },
  {
   "cell_type": "markdown",
   "source": [
    "\n",
    "-------------"
   ],
   "metadata": {
    "collapsed": false,
    "pycharm": {
     "name": "#%% md\n"
    }
   }
  },
  {
   "cell_type": "markdown",
   "source": [
    "## Prep data"
   ],
   "metadata": {
    "collapsed": false
   }
  },
  {
   "cell_type": "code",
   "execution_count": 4,
   "outputs": [],
   "source": [
    "# Read Data\n",
    "df = pd.read_pickle(DF_PATH)"
   ],
   "metadata": {
    "collapsed": false,
    "pycharm": {
     "name": "#%%\n"
    }
   }
  },
  {
   "cell_type": "markdown",
   "source": [
    "### Balance classes"
   ],
   "metadata": {
    "collapsed": false,
    "pycharm": {
     "name": "#%% md\n"
    }
   }
  },
  {
   "cell_type": "code",
   "execution_count": 5,
   "outputs": [
    {
     "data": {
      "text/plain": "Academic researcher                               1708\nData or business analyst                          1658\nData scientist or machine learning specialist     2460\nDatabase administrator                            1210\nDevOps specialist                                 3056\nDeveloper, QA or test                             1135\nDeveloper, back-end                              17084\nDeveloper, desktop or enterprise applications     4845\nDeveloper, embedded applications or devices       2138\nDeveloper, front-end                              8932\nDeveloper, full-stack                            20655\nDeveloper, game or graphics                        899\nDeveloper, mobile                                 4751\nEngineer, data                                    1941\nScientist                                         1046\nSystem administrator                              2069\ndtype: int64"
     },
     "execution_count": 5,
     "metadata": {},
     "output_type": "execute_result"
    }
   ],
   "source": [
    "# Check the total samples of roles\n",
    "roles_df = df[\"DevType\"].copy()\n",
    "roles_df.sum(axis=0)"
   ],
   "metadata": {
    "collapsed": false,
    "pycharm": {
     "name": "#%%\n"
    }
   }
  },
  {
   "cell_type": "code",
   "execution_count": 6,
   "outputs": [],
   "source": [
    "# Resample roles\n",
    "samples_per_class = 1200\n",
    "resampled_roles = []\n",
    "\n",
    "for role_col in roles_df.columns:\n",
    "    sub_df = roles_df.loc[roles_df[role_col] == 1].copy()\n",
    "\n",
    "    if len(sub_df) < samples_per_class:\n",
    "        # Upsample\n",
    "        sub_df = sub_df.sample(samples_per_class, replace=True, random_state=0)\n",
    "    else:\n",
    "        # Downsample\n",
    "        sub_df = sub_df.sample(samples_per_class, random_state=0)\n",
    "\n",
    "    resampled_roles.append(sub_df)"
   ],
   "metadata": {
    "collapsed": false,
    "pycharm": {
     "name": "#%%\n"
    }
   }
  },
  {
   "cell_type": "code",
   "execution_count": 7,
   "outputs": [],
   "source": [
    "# Construct dfs\n",
    "roles_df = pd.concat(resampled_roles)\n",
    "df = df.loc[roles_df.index].copy()"
   ],
   "metadata": {
    "collapsed": false,
    "pycharm": {
     "name": "#%%\n"
    }
   }
  },
  {
   "cell_type": "code",
   "execution_count": 8,
   "outputs": [
    {
     "data": {
      "text/plain": "Academic researcher                              2280\nData or business analyst                         1965\nData scientist or machine learning specialist    2576\nDatabase administrator                           1765\nDevOps specialist                                2170\nDeveloper, QA or test                            1514\nDeveloper, back-end                              5710\nDeveloper, desktop or enterprise applications    2690\nDeveloper, embedded applications or devices      1773\nDeveloper, front-end                             2614\nDeveloper, full-stack                            5602\nDeveloper, game or graphics                      1441\nDeveloper, mobile                                2155\nEngineer, data                                   2046\nScientist                                        1910\nSystem administrator                             2110\ndtype: int64"
     },
     "execution_count": 8,
     "metadata": {},
     "output_type": "execute_result"
    }
   ],
   "source": [
    "roles_df.sum(axis=0)"
   ],
   "metadata": {
    "collapsed": false,
    "pycharm": {
     "name": "#%%\n"
    }
   }
  },
  {
   "cell_type": "markdown",
   "source": [
    "## Split to train and test"
   ],
   "metadata": {
    "collapsed": false,
    "pycharm": {
     "name": "#%% md\n"
    }
   }
  },
  {
   "cell_type": "code",
   "execution_count": 9,
   "id": "6d17cc20-d76b-4d30-84c1-62aad2ad3af2",
   "metadata": {},
   "outputs": [
    {
     "name": "stderr",
     "output_type": "stream",
     "text": [
      "/var/folders/5f/pff47ncd2ql85c2cxp98vpk00000gn/T/ipykernel_3809/1966557603.py:1: PerformanceWarning: dropping on a non-lexsorted multi-index without a level parameter may impact performance.\n",
      "  X_train, X_test, Y_train, Y_test = train_test_split(df.drop('DevType', axis=1),\n"
     ]
    }
   ],
   "source": [
    "X_train, X_test, Y_train, Y_test = train_test_split(df.drop('DevType', axis=1),\n",
    "                                                    df['DevType'],\n",
    "                                                    random_state=0)"
   ]
  },
  {
   "cell_type": "markdown",
   "id": "bcef0d4b-1f3c-4f01-9533-fe24b82f3ef1",
   "metadata": {},
   "source": [
    "_________"
   ]
  },
  {
   "cell_type": "markdown",
   "id": "3f31fd6c-f625-4d5d-851c-8e6fed42bfe5",
   "metadata": {
    "tags": []
   },
   "source": [
    "# Train models"
   ]
  },
  {
   "cell_type": "markdown",
   "id": "64bd1430-e867-4e22-91b6-2dd874cfedcf",
   "metadata": {
    "tags": []
   },
   "source": [
    "### 1. Vanilla Forest "
   ]
  },
  {
   "cell_type": "code",
   "execution_count": 14,
   "id": "311c6b62-f601-4196-b099-2229d5da913d",
   "metadata": {},
   "outputs": [
    {
     "name": "stderr",
     "output_type": "stream",
     "text": [
      "[Parallel(n_jobs=8)]: Using backend ThreadingBackend with 8 concurrent workers.\n",
      "[Parallel(n_jobs=8)]: Done  34 tasks      | elapsed:    1.9s\n",
      "[Parallel(n_jobs=8)]: Done 100 out of 100 | elapsed:    4.1s finished\n"
     ]
    },
    {
     "data": {
      "text/plain": "Pipeline(steps=[('robustscaler', RobustScaler()),\n                ('pca', PCA(n_components=0.95)),\n                ('randomforestclassifier',\n                 RandomForestClassifier(n_jobs=8, random_state=0, verbose=1))])"
     },
     "execution_count": 14,
     "metadata": {},
     "output_type": "execute_result"
    }
   ],
   "source": [
    "rf_clf = make_pipeline(RobustScaler(),\n",
    "                       PCA(n_components=0.95),\n",
    "                       RandomForestClassifier(n_jobs=8,\n",
    "                                              verbose=1,\n",
    "                                              random_state=0))\n",
    "\n",
    "rf_clf.fit(X_train.values, Y_train.values)"
   ]
  },
  {
   "cell_type": "code",
   "execution_count": 15,
   "id": "97beec7e-8bce-4453-b0d5-044ef51b1db5",
   "metadata": {},
   "outputs": [
    {
     "name": "stderr",
     "output_type": "stream",
     "text": [
      "/Users/deenagergis/.conda/envs/e2e_workshop/lib/python3.8/site-packages/sklearn/utils/validation.py:1688: FutureWarning: Feature names only support names that are all strings. Got feature names with dtypes: ['tuple']. An error will be raised in 1.2.\n",
      "  warnings.warn(\n",
      "[Parallel(n_jobs=8)]: Using backend ThreadingBackend with 8 concurrent workers.\n",
      "[Parallel(n_jobs=8)]: Done  34 tasks      | elapsed:    0.2s\n",
      "[Parallel(n_jobs=8)]: Done 100 out of 100 | elapsed:    0.4s finished\n"
     ]
    }
   ],
   "source": [
    "# Evaluate on train set\n",
    "predictions =  pd.DataFrame(rf_clf.predict(X_train), columns=Y_train.columns)\n",
    "train_scores = {score.__name__: calculate_quality(Y_train, predictions, score) \n",
    "                for score in [accuracy_score, precision_score, recall_score, f1_score]}\n",
    "train_scores = pd.concat(train_scores,axis=1)"
   ]
  },
  {
   "cell_type": "code",
   "execution_count": 16,
   "id": "409a02d9-11c7-488c-8094-970d0cdf06c9",
   "metadata": {},
   "outputs": [
    {
     "name": "stderr",
     "output_type": "stream",
     "text": [
      "/Users/deenagergis/.conda/envs/e2e_workshop/lib/python3.8/site-packages/sklearn/utils/validation.py:1688: FutureWarning: Feature names only support names that are all strings. Got feature names with dtypes: ['tuple']. An error will be raised in 1.2.\n",
      "  warnings.warn(\n",
      "[Parallel(n_jobs=8)]: Using backend ThreadingBackend with 8 concurrent workers.\n",
      "[Parallel(n_jobs=8)]: Done  34 tasks      | elapsed:    0.1s\n",
      "[Parallel(n_jobs=8)]: Done 100 out of 100 | elapsed:    0.3s finished\n"
     ]
    }
   ],
   "source": [
    "# Evaluate on test set\n",
    "predictions =  pd.DataFrame(rf_clf.predict(X_test), columns=Y_test.columns)\n",
    "test_scores = {score.__name__: calculate_quality(Y_test, predictions, score) \n",
    "                for score in [accuracy_score, precision_score, recall_score, f1_score]}\n",
    "test_scores = pd.concat(test_scores,axis=1)\n",
    "mean_test_scores = test_scores.mean()"
   ]
  },
  {
   "cell_type": "code",
   "execution_count": 17,
   "id": "55fafcee-428e-4b22-91df-594243970974",
   "metadata": {},
   "outputs": [
    {
     "name": "stdout",
     "output_type": "stream",
     "text": [
      "accuracy_score     92.645625\n",
      "precision_score    94.251250\n",
      "recall_score       50.111250\n",
      "f1_score           64.450625\n",
      "dtype: float64\n"
     ]
    },
    {
     "data": {
      "text/plain": "                                               accuracy_score  \\\nDeveloper, full-stack                                   82.92   \nDeveloper, back-end                                     78.96   \nDeveloper, front-end                                    89.60   \nData scientist or machine learning specialist           94.02   \nDeveloper, mobile                                       94.62   \nDeveloper, desktop or enterprise applications           91.02   \nAcademic researcher                                     94.94   \nDevOps specialist                                       92.79   \nScientist                                               97.21   \nDeveloper, game or graphics                             97.98   \nDeveloper, embedded applications or devices             94.75   \nData or business analyst                                94.58   \nEngineer, data                                          93.96   \nDatabase administrator                                  94.98   \nDeveloper, QA or test                                   96.54   \nSystem administrator                                    93.46   \n\n                                               precision_score  recall_score  \\\nDeveloper, full-stack                                    77.90         57.73   \nDeveloper, back-end                                      84.58         36.28   \nDeveloper, front-end                                     87.21         32.56   \nData scientist or machine learning specialist            90.38         62.35   \nDeveloper, mobile                                        93.40         55.62   \nDeveloper, desktop or enterprise applications            93.44         35.46   \nAcademic researcher                                      95.63         58.99   \nDevOps specialist                                        95.63         36.89   \nScientist                                                97.88         74.55   \nDeveloper, game or graphics                              98.21         74.93   \nDeveloper, embedded applications or devices              98.24         40.14   \nData or business analyst                                 98.31         47.65   \nEngineer, data                                           98.62         42.83   \nDatabase administrator                                   99.02         45.93   \nDeveloper, QA or test                                    99.57         58.23   \nSystem administrator                                    100.00         41.64   \n\n                                               f1_score  \nDeveloper, full-stack                             66.31  \nDeveloper, back-end                               50.78  \nDeveloper, front-end                              47.42  \nData scientist or machine learning specialist     73.79  \nDeveloper, mobile                                 69.72  \nDeveloper, desktop or enterprise applications     51.41  \nAcademic researcher                               72.97  \nDevOps specialist                                 53.24  \nScientist                                         84.63  \nDeveloper, game or graphics                       85.01  \nDeveloper, embedded applications or devices       57.00  \nData or business analyst                          64.19  \nEngineer, data                                    59.72  \nDatabase administrator                            62.75  \nDeveloper, QA or test                             73.48  \nSystem administrator                              58.79  ",
      "text/html": "<div>\n<style scoped>\n    .dataframe tbody tr th:only-of-type {\n        vertical-align: middle;\n    }\n\n    .dataframe tbody tr th {\n        vertical-align: top;\n    }\n\n    .dataframe thead th {\n        text-align: right;\n    }\n</style>\n<table border=\"1\" class=\"dataframe\">\n  <thead>\n    <tr style=\"text-align: right;\">\n      <th></th>\n      <th>accuracy_score</th>\n      <th>precision_score</th>\n      <th>recall_score</th>\n      <th>f1_score</th>\n    </tr>\n  </thead>\n  <tbody>\n    <tr>\n      <th>Developer, full-stack</th>\n      <td>82.92</td>\n      <td>77.90</td>\n      <td>57.73</td>\n      <td>66.31</td>\n    </tr>\n    <tr>\n      <th>Developer, back-end</th>\n      <td>78.96</td>\n      <td>84.58</td>\n      <td>36.28</td>\n      <td>50.78</td>\n    </tr>\n    <tr>\n      <th>Developer, front-end</th>\n      <td>89.60</td>\n      <td>87.21</td>\n      <td>32.56</td>\n      <td>47.42</td>\n    </tr>\n    <tr>\n      <th>Data scientist or machine learning specialist</th>\n      <td>94.02</td>\n      <td>90.38</td>\n      <td>62.35</td>\n      <td>73.79</td>\n    </tr>\n    <tr>\n      <th>Developer, mobile</th>\n      <td>94.62</td>\n      <td>93.40</td>\n      <td>55.62</td>\n      <td>69.72</td>\n    </tr>\n    <tr>\n      <th>Developer, desktop or enterprise applications</th>\n      <td>91.02</td>\n      <td>93.44</td>\n      <td>35.46</td>\n      <td>51.41</td>\n    </tr>\n    <tr>\n      <th>Academic researcher</th>\n      <td>94.94</td>\n      <td>95.63</td>\n      <td>58.99</td>\n      <td>72.97</td>\n    </tr>\n    <tr>\n      <th>DevOps specialist</th>\n      <td>92.79</td>\n      <td>95.63</td>\n      <td>36.89</td>\n      <td>53.24</td>\n    </tr>\n    <tr>\n      <th>Scientist</th>\n      <td>97.21</td>\n      <td>97.88</td>\n      <td>74.55</td>\n      <td>84.63</td>\n    </tr>\n    <tr>\n      <th>Developer, game or graphics</th>\n      <td>97.98</td>\n      <td>98.21</td>\n      <td>74.93</td>\n      <td>85.01</td>\n    </tr>\n    <tr>\n      <th>Developer, embedded applications or devices</th>\n      <td>94.75</td>\n      <td>98.24</td>\n      <td>40.14</td>\n      <td>57.00</td>\n    </tr>\n    <tr>\n      <th>Data or business analyst</th>\n      <td>94.58</td>\n      <td>98.31</td>\n      <td>47.65</td>\n      <td>64.19</td>\n    </tr>\n    <tr>\n      <th>Engineer, data</th>\n      <td>93.96</td>\n      <td>98.62</td>\n      <td>42.83</td>\n      <td>59.72</td>\n    </tr>\n    <tr>\n      <th>Database administrator</th>\n      <td>94.98</td>\n      <td>99.02</td>\n      <td>45.93</td>\n      <td>62.75</td>\n    </tr>\n    <tr>\n      <th>Developer, QA or test</th>\n      <td>96.54</td>\n      <td>99.57</td>\n      <td>58.23</td>\n      <td>73.48</td>\n    </tr>\n    <tr>\n      <th>System administrator</th>\n      <td>93.46</td>\n      <td>100.00</td>\n      <td>41.64</td>\n      <td>58.79</td>\n    </tr>\n  </tbody>\n</table>\n</div>"
     },
     "execution_count": 17,
     "metadata": {},
     "output_type": "execute_result"
    }
   ],
   "source": [
    "print(test_scores.mean())\n",
    "test_scores.sort_values(\"precision_score\")"
   ]
  },
  {
   "cell_type": "markdown",
   "id": "88534cac-cf76-4498-8576-c9b061d474a0",
   "metadata": {
    "tags": []
   },
   "source": [
    "### 2. Hyper parameter tuning"
   ]
  },
  {
   "cell_type": "code",
   "execution_count": 18,
   "id": "bbe4ce18-8c30-4628-8267-6675d812a523",
   "metadata": {},
   "outputs": [],
   "source": [
    "hpt_rf_clf = make_pipeline(RobustScaler(),\n",
    "                           PCA(),\n",
    "                           RandomForestClassifier(n_jobs=8,\n",
    "                                                  verbose=1,\n",
    "                                                  random_state=0))"
   ]
  },
  {
   "cell_type": "code",
   "execution_count": 19,
   "id": "6d0aa9be-727d-4deb-9712-5a856df1ae67",
   "metadata": {},
   "outputs": [],
   "source": [
    "# list(hpt_rf_clf.get_params().keys())\n",
    "tuned_parameters = [{\n",
    "    'pca__n_components': [0.8, 0.9, 0.95],\n",
    "    'randomforestclassifier__n_estimators': [100, 500],\n",
    "    'randomforestclassifier__max_depth':    [3, 10, None],\n",
    "}]\n"
   ]
  },
  {
   "cell_type": "code",
   "execution_count": 20,
   "id": "3a2df48b-343a-438f-90d5-3c40bec79685",
   "metadata": {},
   "outputs": [
    {
     "name": "stderr",
     "output_type": "stream",
     "text": [
      "/Users/deenagergis/.conda/envs/e2e_workshop/lib/python3.8/site-packages/sklearn/utils/validation.py:1688: FutureWarning: Feature names only support names that are all strings. Got feature names with dtypes: ['tuple']. An error will be raised in 1.2.\n",
      "  warnings.warn(\n",
      "/Users/deenagergis/.conda/envs/e2e_workshop/lib/python3.8/site-packages/sklearn/utils/validation.py:1688: FutureWarning: Feature names only support names that are all strings. Got feature names with dtypes: ['tuple']. An error will be raised in 1.2.\n",
      "  warnings.warn(\n",
      "[Parallel(n_jobs=8)]: Using backend ThreadingBackend with 8 concurrent workers.\n",
      "[Parallel(n_jobs=8)]: Done  34 tasks      | elapsed:    0.8s\n",
      "[Parallel(n_jobs=8)]: Done 184 tasks      | elapsed:    3.8s\n",
      "[Parallel(n_jobs=8)]: Done 434 tasks      | elapsed:    8.6s\n",
      "[Parallel(n_jobs=8)]: Done 500 out of 500 | elapsed:    9.9s finished\n"
     ]
    },
    {
     "data": {
      "text/plain": "GridSearchCV(estimator=Pipeline(steps=[('robustscaler', RobustScaler()),\n                                       ('pca', PCA()),\n                                       ('randomforestclassifier',\n                                        RandomForestClassifier(n_jobs=8,\n                                                               random_state=0,\n                                                               verbose=1))]),\n             n_jobs=-1,\n             param_grid=[{'pca__n_components': [0.8, 0.9, 0.95],\n                          'randomforestclassifier__max_depth': [3, 10, None],\n                          'randomforestclassifier__n_estimators': [100, 500]}])"
     },
     "execution_count": 20,
     "metadata": {},
     "output_type": "execute_result"
    }
   ],
   "source": [
    "hpt_rf_clf = GridSearchCV(hpt_rf_clf, \n",
    "                          tuned_parameters, \n",
    "                          n_jobs=-1)\n",
    "\n",
    "hpt_rf_clf.fit(X_train.values, Y_train.values)"
   ]
  },
  {
   "cell_type": "code",
   "execution_count": 21,
   "id": "a3666b9b-a4d7-406d-bc2d-71e5f68fd4fb",
   "metadata": {},
   "outputs": [
    {
     "data": {
      "text/plain": "{'pca__n_components': 0.8,\n 'randomforestclassifier__max_depth': None,\n 'randomforestclassifier__n_estimators': 500}"
     },
     "execution_count": 21,
     "metadata": {},
     "output_type": "execute_result"
    }
   ],
   "source": [
    "hpt_rf_clf.best_params_"
   ]
  },
  {
   "cell_type": "code",
   "execution_count": 22,
   "outputs": [
    {
     "data": {
      "text/plain": "{'mean_fit_time': array([ 3.66413379, 16.6831461 ,  7.9728723 , 35.65315814, 14.79051414,\n        60.60367851,  5.09535136, 24.0558548 , 10.05568948, 41.78418736,\n        21.8064199 , 85.11829114,  5.32216258, 24.6513442 , 12.35216699,\n        48.28836083, 23.03022647, 65.34687428]),\n 'std_fit_time': array([ 0.18313384,  1.59731713,  1.8360381 ,  8.33219107,  2.12661077,\n         6.44703384,  0.33938964,  2.56181066,  1.24341875,  8.02888181,\n         1.22881915,  5.59208448,  0.74571405,  3.28724204,  1.00380748,\n        11.95272199,  1.67649353,  3.66334246]),\n 'mean_score_time': array([0.55982246, 3.48685875, 0.66621008, 3.12085142, 0.70327425,\n        3.73799829, 0.59429975, 3.2759336 , 0.76351933, 3.3679317 ,\n        0.70649834, 3.80850797, 0.68373976, 3.05141788, 0.59486008,\n        2.97651925, 0.65931649, 2.03119769]),\n 'std_score_time': array([0.13181395, 0.54382408, 0.06642582, 0.53638693, 0.11393683,\n        0.7969799 , 0.0326792 , 0.59784904, 0.11483571, 0.19439134,\n        0.09325373, 0.56933461, 0.04585492, 0.29050753, 0.10252546,\n        0.37002392, 0.08861508, 0.54732082]),\n 'param_pca__n_components': masked_array(data=[0.8, 0.8, 0.8, 0.8, 0.8, 0.8, 0.9, 0.9, 0.9, 0.9, 0.9,\n                    0.9, 0.95, 0.95, 0.95, 0.95, 0.95, 0.95],\n              mask=[False, False, False, False, False, False, False, False,\n                    False, False, False, False, False, False, False, False,\n                    False, False],\n        fill_value='?',\n             dtype=object),\n 'param_randomforestclassifier__max_depth': masked_array(data=[3, 3, 10, 10, None, None, 3, 3, 10, 10, None, None, 3,\n                    3, 10, 10, None, None],\n              mask=[False, False, False, False, False, False, False, False,\n                    False, False, False, False, False, False, False, False,\n                    False, False],\n        fill_value='?',\n             dtype=object),\n 'param_randomforestclassifier__n_estimators': masked_array(data=[100, 500, 100, 500, 100, 500, 100, 500, 100, 500, 100,\n                    500, 100, 500, 100, 500, 100, 500],\n              mask=[False, False, False, False, False, False, False, False,\n                    False, False, False, False, False, False, False, False,\n                    False, False],\n        fill_value='?',\n             dtype=object),\n 'params': [{'pca__n_components': 0.8,\n   'randomforestclassifier__max_depth': 3,\n   'randomforestclassifier__n_estimators': 100},\n  {'pca__n_components': 0.8,\n   'randomforestclassifier__max_depth': 3,\n   'randomforestclassifier__n_estimators': 500},\n  {'pca__n_components': 0.8,\n   'randomforestclassifier__max_depth': 10,\n   'randomforestclassifier__n_estimators': 100},\n  {'pca__n_components': 0.8,\n   'randomforestclassifier__max_depth': 10,\n   'randomforestclassifier__n_estimators': 500},\n  {'pca__n_components': 0.8,\n   'randomforestclassifier__max_depth': None,\n   'randomforestclassifier__n_estimators': 100},\n  {'pca__n_components': 0.8,\n   'randomforestclassifier__max_depth': None,\n   'randomforestclassifier__n_estimators': 500},\n  {'pca__n_components': 0.9,\n   'randomforestclassifier__max_depth': 3,\n   'randomforestclassifier__n_estimators': 100},\n  {'pca__n_components': 0.9,\n   'randomforestclassifier__max_depth': 3,\n   'randomforestclassifier__n_estimators': 500},\n  {'pca__n_components': 0.9,\n   'randomforestclassifier__max_depth': 10,\n   'randomforestclassifier__n_estimators': 100},\n  {'pca__n_components': 0.9,\n   'randomforestclassifier__max_depth': 10,\n   'randomforestclassifier__n_estimators': 500},\n  {'pca__n_components': 0.9,\n   'randomforestclassifier__max_depth': None,\n   'randomforestclassifier__n_estimators': 100},\n  {'pca__n_components': 0.9,\n   'randomforestclassifier__max_depth': None,\n   'randomforestclassifier__n_estimators': 500},\n  {'pca__n_components': 0.95,\n   'randomforestclassifier__max_depth': 3,\n   'randomforestclassifier__n_estimators': 100},\n  {'pca__n_components': 0.95,\n   'randomforestclassifier__max_depth': 3,\n   'randomforestclassifier__n_estimators': 500},\n  {'pca__n_components': 0.95,\n   'randomforestclassifier__max_depth': 10,\n   'randomforestclassifier__n_estimators': 100},\n  {'pca__n_components': 0.95,\n   'randomforestclassifier__max_depth': 10,\n   'randomforestclassifier__n_estimators': 500},\n  {'pca__n_components': 0.95,\n   'randomforestclassifier__max_depth': None,\n   'randomforestclassifier__n_estimators': 100},\n  {'pca__n_components': 0.95,\n   'randomforestclassifier__max_depth': None,\n   'randomforestclassifier__n_estimators': 500}],\n 'split0_test_score': array([0.        , 0.        , 0.07118056, 0.06736111, 0.33923611,\n        0.34131944, 0.        , 0.        , 0.05659722, 0.05243056,\n        0.33229167, 0.33888889, 0.        , 0.        , 0.04583333,\n        0.04513889, 0.33125   , 0.33541667]),\n 'split1_test_score': array([0.        , 0.        , 0.06979167, 0.06770833, 0.34722222,\n        0.34861111, 0.        , 0.        , 0.05555556, 0.05381944,\n        0.340625  , 0.34375   , 0.        , 0.        , 0.04583333,\n        0.04409722, 0.33784722, 0.33715278]),\n 'split2_test_score': array([0.        , 0.        , 0.07673611, 0.07638889, 0.33576389,\n        0.34305556, 0.        , 0.        , 0.05972222, 0.05833333,\n        0.328125  , 0.33159722, 0.        , 0.        , 0.053125  ,\n        0.053125  , 0.32916667, 0.33055556]),\n 'split3_test_score': array([0.        , 0.        , 0.07118056, 0.071875  , 0.33090278,\n        0.33194444, 0.        , 0.        , 0.05972222, 0.05694444,\n        0.32777778, 0.32916667, 0.        , 0.        , 0.04826389,\n        0.04583333, 0.31909722, 0.32326389]),\n 'split4_test_score': array([0.        , 0.        , 0.06354167, 0.06458333, 0.33472222,\n        0.33680556, 0.        , 0.        , 0.05208333, 0.04826389,\n        0.33263889, 0.33402778, 0.        , 0.        , 0.04444444,\n        0.04097222, 0.325     , 0.32708333]),\n 'mean_test_score': array([0.        , 0.        , 0.07048611, 0.06958333, 0.33756944,\n        0.34034722, 0.        , 0.        , 0.05673611, 0.05395833,\n        0.33229167, 0.33548611, 0.        , 0.        , 0.0475    ,\n        0.04583333, 0.32847222, 0.33069444]),\n 'std_test_score': array([0.        , 0.        , 0.00421271, 0.00412362, 0.00550936,\n        0.00565194, 0.        , 0.        , 0.0028599 , 0.00354507,\n        0.00463252, 0.00523558, 0.        , 0.        , 0.00306973,\n        0.00400737, 0.00626156, 0.00514358]),\n 'rank_test_score': array([13, 13,  7,  8,  2,  1, 13, 13,  9, 10,  4,  3, 13, 13, 11, 12,  6,\n         5], dtype=int32)}"
     },
     "execution_count": 22,
     "metadata": {},
     "output_type": "execute_result"
    }
   ],
   "source": [
    "hpt_rf_clf.cv_results_"
   ],
   "metadata": {
    "collapsed": false,
    "pycharm": {
     "name": "#%%\n"
    }
   }
  },
  {
   "cell_type": "code",
   "execution_count": 23,
   "id": "c83d05d4-c404-4011-b28c-16a1abd22af3",
   "metadata": {},
   "outputs": [
    {
     "name": "stderr",
     "output_type": "stream",
     "text": [
      "/Users/deenagergis/.conda/envs/e2e_workshop/lib/python3.8/site-packages/sklearn/utils/validation.py:1688: FutureWarning: Feature names only support names that are all strings. Got feature names with dtypes: ['tuple']. An error will be raised in 1.2.\n",
      "  warnings.warn(\n",
      "[Parallel(n_jobs=8)]: Using backend ThreadingBackend with 8 concurrent workers.\n",
      "[Parallel(n_jobs=8)]: Done  34 tasks      | elapsed:    0.2s\n",
      "[Parallel(n_jobs=8)]: Done 184 tasks      | elapsed:    0.9s\n",
      "[Parallel(n_jobs=8)]: Done 434 tasks      | elapsed:    2.1s\n",
      "[Parallel(n_jobs=8)]: Done 500 out of 500 | elapsed:    2.5s finished\n"
     ]
    }
   ],
   "source": [
    "# Evaluate on test set\n",
    "predictions =  pd.DataFrame(hpt_rf_clf.predict(X_train), columns=Y_train.columns)\n",
    "train_scores = {score.__name__: calculate_quality(Y_train, predictions, score) \n",
    "                for score in [accuracy_score, precision_score, recall_score, f1_score]}\n",
    "train_scores = pd.concat(train_scores,axis=1)"
   ]
  },
  {
   "cell_type": "code",
   "execution_count": 24,
   "id": "da4154f0-7ec6-43f9-8405-f1398704d6a6",
   "metadata": {},
   "outputs": [
    {
     "name": "stderr",
     "output_type": "stream",
     "text": [
      "/Users/deenagergis/.conda/envs/e2e_workshop/lib/python3.8/site-packages/sklearn/utils/validation.py:1688: FutureWarning: Feature names only support names that are all strings. Got feature names with dtypes: ['tuple']. An error will be raised in 1.2.\n",
      "  warnings.warn(\n",
      "[Parallel(n_jobs=8)]: Using backend ThreadingBackend with 8 concurrent workers.\n",
      "[Parallel(n_jobs=8)]: Done  34 tasks      | elapsed:    0.1s\n",
      "[Parallel(n_jobs=8)]: Done 184 tasks      | elapsed:    0.6s\n",
      "[Parallel(n_jobs=8)]: Done 434 tasks      | elapsed:    1.5s\n",
      "[Parallel(n_jobs=8)]: Done 500 out of 500 | elapsed:    1.7s finished\n"
     ]
    }
   ],
   "source": [
    "# Evaluate on test set\n",
    "predictions =  pd.DataFrame(hpt_rf_clf.predict(X_test), columns=Y_test.columns)\n",
    "test_scores = {score.__name__: calculate_quality(Y_test, predictions, score) \n",
    "                for score in [accuracy_score, precision_score, recall_score, f1_score]}\n",
    "test_scores = pd.concat(test_scores,axis=1)"
   ]
  },
  {
   "cell_type": "code",
   "execution_count": 25,
   "id": "efaaa74d-834d-4794-a906-34032288dfe4",
   "metadata": {},
   "outputs": [
    {
     "name": "stdout",
     "output_type": "stream",
     "text": [
      "accuracy_score     92.776250\n",
      "precision_score    92.052500\n",
      "recall_score       52.292500\n",
      "f1_score           65.719375\n",
      "dtype: float64\n"
     ]
    },
    {
     "data": {
      "text/plain": "                                               accuracy_score  \\\nAcademic researcher                                     94.85   \nData or business analyst                                94.58   \nData scientist or machine learning specialist           94.25   \nDatabase administrator                                  95.00   \nDevOps specialist                                       93.06   \nDeveloper, QA or test                                   96.52   \nDeveloper, back-end                                     79.38   \nDeveloper, desktop or enterprise applications           90.92   \nDeveloper, embedded applications or devices             94.75   \nDeveloper, front-end                                    89.46   \nDeveloper, full-stack                                   84.02   \nDeveloper, game or graphics                             98.00   \nDeveloper, mobile                                       94.90   \nEngineer, data                                          94.06   \nScientist                                               97.17   \nSystem administrator                                    93.50   \n\n                                               precision_score  recall_score  \\\nAcademic researcher                                      93.28         59.89   \nData or business analyst                                 95.62         49.08   \nData scientist or machine learning specialist            87.50         66.98   \nDatabase administrator                                   99.03         46.15   \nDevOps specialist                                        92.41         41.01   \nDeveloper, QA or test                                    99.14         58.23   \nDeveloper, back-end                                      80.80         40.74   \nDeveloper, desktop or enterprise applications            92.24         35.15   \nDeveloper, embedded applications or devices              91.41         43.51   \nDeveloper, front-end                                     82.23         34.15   \nDeveloper, full-stack                                    77.36         63.81   \nDeveloper, game or graphics                              96.89         76.29   \nDeveloper, mobile                                        90.93         60.11   \nEngineer, data                                           97.38         44.42   \nScientist                                                96.62         75.15   \nSystem administrator                                    100.00         42.01   \n\n                                               f1_score  \nAcademic researcher                               72.95  \nData or business analyst                          64.86  \nData scientist or machine learning specialist     75.87  \nDatabase administrator                            62.96  \nDevOps specialist                                 56.81  \nDeveloper, QA or test                             73.37  \nDeveloper, back-end                               54.17  \nDeveloper, desktop or enterprise applications     50.90  \nDeveloper, embedded applications or devices       58.96  \nDeveloper, front-end                              48.26  \nDeveloper, full-stack                             69.93  \nDeveloper, game or graphics                       85.37  \nDeveloper, mobile                                 72.38  \nEngineer, data                                    61.01  \nScientist                                         84.55  \nSystem administrator                              59.16  ",
      "text/html": "<div>\n<style scoped>\n    .dataframe tbody tr th:only-of-type {\n        vertical-align: middle;\n    }\n\n    .dataframe tbody tr th {\n        vertical-align: top;\n    }\n\n    .dataframe thead th {\n        text-align: right;\n    }\n</style>\n<table border=\"1\" class=\"dataframe\">\n  <thead>\n    <tr style=\"text-align: right;\">\n      <th></th>\n      <th>accuracy_score</th>\n      <th>precision_score</th>\n      <th>recall_score</th>\n      <th>f1_score</th>\n    </tr>\n  </thead>\n  <tbody>\n    <tr>\n      <th>Academic researcher</th>\n      <td>94.85</td>\n      <td>93.28</td>\n      <td>59.89</td>\n      <td>72.95</td>\n    </tr>\n    <tr>\n      <th>Data or business analyst</th>\n      <td>94.58</td>\n      <td>95.62</td>\n      <td>49.08</td>\n      <td>64.86</td>\n    </tr>\n    <tr>\n      <th>Data scientist or machine learning specialist</th>\n      <td>94.25</td>\n      <td>87.50</td>\n      <td>66.98</td>\n      <td>75.87</td>\n    </tr>\n    <tr>\n      <th>Database administrator</th>\n      <td>95.00</td>\n      <td>99.03</td>\n      <td>46.15</td>\n      <td>62.96</td>\n    </tr>\n    <tr>\n      <th>DevOps specialist</th>\n      <td>93.06</td>\n      <td>92.41</td>\n      <td>41.01</td>\n      <td>56.81</td>\n    </tr>\n    <tr>\n      <th>Developer, QA or test</th>\n      <td>96.52</td>\n      <td>99.14</td>\n      <td>58.23</td>\n      <td>73.37</td>\n    </tr>\n    <tr>\n      <th>Developer, back-end</th>\n      <td>79.38</td>\n      <td>80.80</td>\n      <td>40.74</td>\n      <td>54.17</td>\n    </tr>\n    <tr>\n      <th>Developer, desktop or enterprise applications</th>\n      <td>90.92</td>\n      <td>92.24</td>\n      <td>35.15</td>\n      <td>50.90</td>\n    </tr>\n    <tr>\n      <th>Developer, embedded applications or devices</th>\n      <td>94.75</td>\n      <td>91.41</td>\n      <td>43.51</td>\n      <td>58.96</td>\n    </tr>\n    <tr>\n      <th>Developer, front-end</th>\n      <td>89.46</td>\n      <td>82.23</td>\n      <td>34.15</td>\n      <td>48.26</td>\n    </tr>\n    <tr>\n      <th>Developer, full-stack</th>\n      <td>84.02</td>\n      <td>77.36</td>\n      <td>63.81</td>\n      <td>69.93</td>\n    </tr>\n    <tr>\n      <th>Developer, game or graphics</th>\n      <td>98.00</td>\n      <td>96.89</td>\n      <td>76.29</td>\n      <td>85.37</td>\n    </tr>\n    <tr>\n      <th>Developer, mobile</th>\n      <td>94.90</td>\n      <td>90.93</td>\n      <td>60.11</td>\n      <td>72.38</td>\n    </tr>\n    <tr>\n      <th>Engineer, data</th>\n      <td>94.06</td>\n      <td>97.38</td>\n      <td>44.42</td>\n      <td>61.01</td>\n    </tr>\n    <tr>\n      <th>Scientist</th>\n      <td>97.17</td>\n      <td>96.62</td>\n      <td>75.15</td>\n      <td>84.55</td>\n    </tr>\n    <tr>\n      <th>System administrator</th>\n      <td>93.50</td>\n      <td>100.00</td>\n      <td>42.01</td>\n      <td>59.16</td>\n    </tr>\n  </tbody>\n</table>\n</div>"
     },
     "execution_count": 25,
     "metadata": {},
     "output_type": "execute_result"
    }
   ],
   "source": [
    "print(test_scores.mean())\n",
    "test_scores"
   ]
  },
  {
   "cell_type": "markdown",
   "id": "f863e7cf-ad0f-415c-917f-da252abbdafb",
   "metadata": {
    "tags": []
   },
   "source": [
    "#### Log"
   ]
  },
  {
   "cell_type": "code",
   "execution_count": null,
   "id": "f3b28bb5-cfc0-4b77-8200-9d909bed1a6a",
   "metadata": {
    "tags": []
   },
   "outputs": [],
   "source": [
    "# Data details\n",
    "data_details = {\"data_path\": DF_PATH,\n",
    "                \"training_indices\": X_train.index.tolist(),\n",
    "                \"test_indices\":     X_test.index.tolist(), \n",
    "                \"features_names\":   X_train.columns.droplevel(0).tolist(),\n",
    "                \"targets_names\":    Y_train.columns.tolist()}\n",
    "\n",
    "with open(os.path.join(LOG_PATH, LOG_DATA_PKL), \"wb\") as output_file:\n",
    "    pickle.dump(data_details, output_file)"
   ]
  },
  {
   "cell_type": "code",
   "execution_count": null,
   "id": "c090e737-c67d-467d-a9eb-44e297b946d9",
   "metadata": {},
   "outputs": [],
   "source": [
    "# Model\n",
    "model = {\"model_description\": \"Random Forest: with PCAs + Hyperparamter tuning\",\n",
    "         \"model_details\": str(hpt_rf_clf),\n",
    "         \"model_object\": hpt_rf_clf} \n",
    "\n",
    "with open(os.path.join(LOG_PATH, LOG_MODEL_PKL), \"wb\") as output_file:\n",
    "    pickle.dump(model, output_file)"
   ]
  },
  {
   "cell_type": "code",
   "execution_count": null,
   "id": "8b1bf695-4b10-4951-82bd-b1358c41587b",
   "metadata": {},
   "outputs": [],
   "source": [
    "# Preformance details\n",
    "classes_metrics = {\"train_scores\": train_scores, \n",
    "                   \"test_scores\":  test_scores}\n",
    "\n",
    "with open(os.path.join(LOG_PATH, LOG_METRICS_PKL), \"wb\") as output_file:\n",
    "    pickle.dump(classes_metrics, output_file)"
   ]
  },
  {
   "cell_type": "code",
   "execution_count": null,
   "id": "abcd72bf-5ea5-4a3e-97fc-695335a93152",
   "metadata": {},
   "outputs": [],
   "source": [
    "# Start a new run and track \n",
    "with mlflow.start_run(experiment_id=exp.experiment_id, \n",
    "                      run_name=model[\"model_description\"]):\n",
    "    # Log pickles\n",
    "    mlflow.log_artifacts(LOG_PATH)  \n",
    "    \n",
    "    # Track metrics \n",
    "    for metric, score in mean_test_scores.items():\n",
    "        mlflow.log_metric(metric, score) \n",
    "    "
   ]
  },
  {
   "cell_type": "code",
   "execution_count": null,
   "id": "3a428a9f-3310-4971-95f4-d709e4d6ceb0",
   "metadata": {},
   "outputs": [],
   "source": []
  }
 ],
 "metadata": {
  "kernelspec": {
   "display_name": "Python 3 (ipykernel)",
   "language": "python",
   "name": "python3"
  },
  "language_info": {
   "codemirror_mode": {
    "name": "ipython",
    "version": 3
   },
   "file_extension": ".py",
   "mimetype": "text/x-python",
   "name": "python",
   "nbconvert_exporter": "python",
   "pygments_lexer": "ipython3",
   "version": "3.8.8"
  }
 },
 "nbformat": 4,
 "nbformat_minor": 5
}