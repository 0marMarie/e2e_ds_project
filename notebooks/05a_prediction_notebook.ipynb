{
 "cells": [
  {
   "cell_type": "code",
   "execution_count": 26,
   "id": "ed3bef66-ff21-4577-8b95-aee89c6a5b22",
   "metadata": {},
   "outputs": [],
   "source": [
    "MLFLOW_TRACKING_URI = '../models/mlruns'\n",
    "MLFLOW_EXPERIMENT_NAME = \"skills_jobs_stackoverflow\"\n",
    "MLFLOW_RUN_ID = \"a107782f5e814648af1d609b046aa929\"\n",
    "\n",
    "LOG_DATA_PKL    =  \"data.pkl\"\n",
    "LOG_MODEL_PKL   =  \"model.pkl\"\n",
    "LOG_METRICS_PKL =  \"metrics.pkl\"\n",
    "\n",
    "CLUSTERS_YAML_PATH = \"../data/processed/features_skills_clusters_description.yaml\""
   ]
  },
  {
   "cell_type": "code",
   "execution_count": 3,
   "id": "00b8e7fc-c8c4-4a99-8866-243419a39b7a",
   "metadata": {},
   "outputs": [],
   "source": [
    "import os \n",
    "import sklearn\n",
    "import pickle\n",
    "import yaml\n",
    "\n",
    "import pandas as pd\n",
    "\n",
    "import mlflow\n",
    "from mlflow.tracking import MlflowClient"
   ]
  },
  {
   "cell_type": "markdown",
   "source": [
    "# Initialize"
   ],
   "metadata": {
    "collapsed": false,
    "pycharm": {
     "name": "#%% md\n"
    }
   }
  },
  {
   "cell_type": "markdown",
   "source": [
    "# 1. Mlflow"
   ],
   "metadata": {
    "collapsed": false,
    "pycharm": {
     "name": "#%% md\n"
    }
   }
  },
  {
   "cell_type": "code",
   "execution_count": 21,
   "outputs": [],
   "source": [
    "# Initialize client and experiment\n",
    "mlflow.set_tracking_uri(MLFLOW_TRACKING_URI)\n",
    "client = MlflowClient()\n",
    "\n",
    "run = mlflow.get_run(MLFLOW_RUN_ID)\n",
    "artificats_path = run.info.artifact_uri"
   ],
   "metadata": {
    "collapsed": false,
    "pycharm": {
     "name": "#%%\n"
    }
   }
  },
  {
   "cell_type": "markdown",
   "id": "a3b1dcf3-5871-4356-bd13-89ed7d8fa5e4",
   "metadata": {},
   "source": [
    "## Load model"
   ]
  },
  {
   "cell_type": "code",
   "execution_count": 22,
   "outputs": [
    {
     "data": {
      "text/plain": "{'model_description': 'Random Forest: with PCA - Basic',\n 'model_details': \"Pipeline(steps=[('robustscaler', RobustScaler()),\\n                ('pca', PCA(n_components=0.95)),\\n                ('randomforestclassifier',\\n                 RandomForestClassifier(n_jobs=8, random_state=0, verbose=1))])\",\n 'model_object': Pipeline(steps=[('robustscaler', RobustScaler()),\n                 ('pca', PCA(n_components=0.95)),\n                 ('randomforestclassifier',\n                  RandomForestClassifier(n_jobs=8, random_state=0, verbose=1))])}"
     },
     "execution_count": 22,
     "metadata": {},
     "output_type": "execute_result"
    }
   ],
   "source": [
    "# Load model\n",
    "model_path = os.path.join(artificats_path, LOG_MODEL_PKL)\n",
    "with open(model_path, \"rb\") as f:\n",
    "    model = pickle.load(f)\n",
    "\n",
    "model"
   ],
   "metadata": {
    "collapsed": false,
    "pycharm": {
     "name": "#%%\n"
    }
   }
  },
  {
   "cell_type": "code",
   "execution_count": 25,
   "id": "a44f70b7-d158-4f21-aae2-b05ddbb68946",
   "metadata": {},
   "outputs": [
    {
     "data": {
      "text/plain": "dict_keys(['data_path', 'training_indices', 'test_indices', 'features_names', 'targets_names'])"
     },
     "execution_count": 25,
     "metadata": {},
     "output_type": "execute_result"
    }
   ],
   "source": [
    "# Load data pkl\n",
    "data_path  = os.path.join(artificats_path, LOG_DATA_PKL)\n",
    "with open(data_path, 'rb') as handle:\n",
    "    data = pickle.load(handle)\n",
    "\n",
    "data.keys()"
   ]
  },
  {
   "cell_type": "code",
   "execution_count": 68,
   "outputs": [],
   "source": [
    "# Unpack vars\n",
    "features_names = pd.Series(data[\"features_names\"])\n",
    "targets_names  = pd.Series(data['targets_names'])\n",
    "classifier = model['model_object']"
   ],
   "metadata": {
    "collapsed": false,
    "pycharm": {
     "name": "#%%\n"
    }
   }
  },
  {
   "cell_type": "markdown",
   "source": [
    "______"
   ],
   "metadata": {
    "collapsed": false,
    "pycharm": {
     "name": "#%% md\n"
    }
   }
  },
  {
   "cell_type": "markdown",
   "source": [
    "## Load skills Clusters"
   ],
   "metadata": {
    "collapsed": false
   }
  },
  {
   "cell_type": "code",
   "execution_count": 70,
   "id": "1a7ac45f-ecca-433e-a54f-5c0b00cac31c",
   "metadata": {},
   "outputs": [
    {
     "data": {
      "text/plain": "{'skills_group_0': ['Groovy',\n  'Java',\n  'Oracle',\n  'Oracle Cloud Infrastructure',\n  'Spring',\n  'Atom',\n  'Eclipse',\n  'IntelliJ',\n  'NetBeans',\n  'Sublime Text'],\n 'skills_group_1': ['Matlab',\n  'Python',\n  'Django',\n  'FastAPI',\n  'Flask',\n  'NumPy',\n  'Pandas',\n  'IPython/Jupyter',\n  'PyCharm'],\n 'skills_group_10': ['Dart',\n  'Kotlin',\n  'Firebase',\n  'SQLite',\n  'Google Cloud Platform',\n  'Flutter',\n  'Android Studio'],\n 'skills_group_11': ['Assembly', 'C', 'C++', 'Qt'],\n 'skills_group_12': ['Scala', 'Apache Spark', 'Hadoop'],\n 'skills_group_13': ['HTML/CSS', 'JavaScript', 'jQuery', 'Visual Studio Code'],\n 'skills_group_14': ['Bash/Shell', 'Perl', 'Vim'],\n 'skills_group_15': ['Julia', 'R', 'RStudio'],\n 'skills_group_16': ['Unity 3D', 'Unreal Engine'],\n 'skills_group_17': ['Objective-C', 'Swift', 'Xcode'],\n 'skills_group_18': ['Svelte', 'Deno'],\n 'skills_group_19': ['TypeScript', 'Angular', 'Angular.js', 'Cordova'],\n 'skills_group_2': ['C#',\n  'F#',\n  'PowerShell',\n  'VBA',\n  'Microsoft SQL Server',\n  'Microsoft Azure',\n  'ASP.NET',\n  'ASP.NET Core ',\n  '.NET Core / .NET 5',\n  '.NET Framework',\n  'Xamarin',\n  'Notepad++',\n  'Rider',\n  'Visual Studio'],\n 'skills_group_20': ['Cassandra',\n  'Couchbase',\n  'Elasticsearch',\n  'Redis',\n  'DigitalOcean'],\n 'skills_group_21': ['Elixir', 'Erlang'],\n 'skills_group_22': ['Keras', 'TensorFlow', 'Torch/PyTorch'],\n 'skills_group_3': ['PHP',\n  'SQL',\n  'MariaDB',\n  'MySQL',\n  'Drupal',\n  'Laravel',\n  'Symfony',\n  'Vue.js',\n  'PHPStorm',\n  'Webstorm'],\n 'skills_group_4': ['Clojure', 'Haskell', 'LISP', 'Rust', 'Emacs', 'Neovim'],\n 'skills_group_5': ['APL',\n  'COBOL',\n  'Crystal',\n  'Delphi',\n  'IBM DB2',\n  'IBM Cloud or Watson'],\n 'skills_group_6': ['Ansible',\n  'Chef',\n  'Flow',\n  'Pulumi',\n  'Puppet',\n  'Terraform'],\n 'skills_group_7': ['Node.js',\n  'MongoDB',\n  'Heroku',\n  'Express',\n  'Gatsby',\n  'React.js',\n  'React Native',\n  'Yarn'],\n 'skills_group_8': ['Ruby', 'Ruby on Rails', 'RubyMine', 'TextMate'],\n 'skills_group_9': ['Go',\n  'DynamoDB',\n  'PostgreSQL',\n  'AWS',\n  'Docker',\n  'Git',\n  'Kubernetes']}"
     },
     "execution_count": 70,
     "metadata": {},
     "output_type": "execute_result"
    }
   ],
   "source": [
    "# Load skills clusters\n",
    "with open(CLUSTERS_YAML_PATH, \"r\") as stream:\n",
    "    clusters_config = yaml.safe_load(stream)\n",
    "\n",
    "clusters_config"
   ]
  },
  {
   "cell_type": "code",
   "execution_count": 71,
   "id": "11372afe-1fa0-4626-b4d6-3b7aee3a930d",
   "metadata": {},
   "outputs": [
    {
     "data": {
      "text/plain": "       cluster_name                        skill\n0    skills_group_0                       Groovy\n1    skills_group_0                         Java\n2    skills_group_0                       Oracle\n3    skills_group_0  Oracle Cloud Infrastructure\n4    skills_group_0                       Spring\n..              ...                          ...\n120  skills_group_9                   PostgreSQL\n121  skills_group_9                          AWS\n122  skills_group_9                       Docker\n123  skills_group_9                          Git\n124  skills_group_9                   Kubernetes\n\n[125 rows x 2 columns]",
      "text/html": "<div>\n<style scoped>\n    .dataframe tbody tr th:only-of-type {\n        vertical-align: middle;\n    }\n\n    .dataframe tbody tr th {\n        vertical-align: top;\n    }\n\n    .dataframe thead th {\n        text-align: right;\n    }\n</style>\n<table border=\"1\" class=\"dataframe\">\n  <thead>\n    <tr style=\"text-align: right;\">\n      <th></th>\n      <th>cluster_name</th>\n      <th>skill</th>\n    </tr>\n  </thead>\n  <tbody>\n    <tr>\n      <th>0</th>\n      <td>skills_group_0</td>\n      <td>Groovy</td>\n    </tr>\n    <tr>\n      <th>1</th>\n      <td>skills_group_0</td>\n      <td>Java</td>\n    </tr>\n    <tr>\n      <th>2</th>\n      <td>skills_group_0</td>\n      <td>Oracle</td>\n    </tr>\n    <tr>\n      <th>3</th>\n      <td>skills_group_0</td>\n      <td>Oracle Cloud Infrastructure</td>\n    </tr>\n    <tr>\n      <th>4</th>\n      <td>skills_group_0</td>\n      <td>Spring</td>\n    </tr>\n    <tr>\n      <th>...</th>\n      <td>...</td>\n      <td>...</td>\n    </tr>\n    <tr>\n      <th>120</th>\n      <td>skills_group_9</td>\n      <td>PostgreSQL</td>\n    </tr>\n    <tr>\n      <th>121</th>\n      <td>skills_group_9</td>\n      <td>AWS</td>\n    </tr>\n    <tr>\n      <th>122</th>\n      <td>skills_group_9</td>\n      <td>Docker</td>\n    </tr>\n    <tr>\n      <th>123</th>\n      <td>skills_group_9</td>\n      <td>Git</td>\n    </tr>\n    <tr>\n      <th>124</th>\n      <td>skills_group_9</td>\n      <td>Kubernetes</td>\n    </tr>\n  </tbody>\n</table>\n<p>125 rows × 2 columns</p>\n</div>"
     },
     "execution_count": 71,
     "metadata": {},
     "output_type": "execute_result"
    }
   ],
   "source": [
    "# Reformat into data frame\n",
    "molten_clusters = [(cluster_name, cluster_skill)\n",
    "                   for cluster_name, cluster_skills in clusters_config.items()\n",
    "                   for cluster_skill in cluster_skills]\n",
    "\n",
    "clusters_df = pd.DataFrame(molten_clusters, columns=[\"cluster_name\", \"skill\"])\n",
    "clusters_df"
   ]
  },
  {
   "cell_type": "markdown",
   "source": [
    "________"
   ],
   "metadata": {
    "collapsed": false,
    "pycharm": {
     "name": "#%% md\n"
    }
   }
  },
  {
   "cell_type": "markdown",
   "source": [
    "## Predict sample entry"
   ],
   "metadata": {
    "collapsed": false
   }
  },
  {
   "cell_type": "code",
   "execution_count": 39,
   "id": "e66c168d-1213-4d04-9a3b-b8068d9b0732",
   "metadata": {},
   "outputs": [],
   "source": [
    "sample_skills = ['Pandas', 'TensorFlow', 'Torch/PyTorch', 'Python', 'Keras']"
   ]
  },
  {
   "cell_type": "code",
   "execution_count": 47,
   "outputs": [
    {
     "data": {
      "text/plain": "0    True\n1    True\n2    True\n3    True\n4    True\ndtype: bool"
     },
     "execution_count": 47,
     "metadata": {},
     "output_type": "execute_result"
    }
   ],
   "source": [
    "# Verify\n",
    "pd.Series(sample_skills).isin(features_names)"
   ],
   "metadata": {
    "collapsed": false,
    "pycharm": {
     "name": "#%%\n"
    }
   }
  },
  {
   "cell_type": "markdown",
   "source": [
    "### 1. Recreate cluster features"
   ],
   "metadata": {
    "collapsed": false
   }
  },
  {
   "cell_type": "code",
   "execution_count": 43,
   "id": "ccb1f39a-71dd-479b-a7c1-f6c15b16687d",
   "metadata": {},
   "outputs": [
    {
     "data": {
      "text/plain": "       cluster_name                        skill  sample_skills\n0    skills_group_0                       Groovy          False\n1    skills_group_0                         Java          False\n2    skills_group_0                       Oracle          False\n3    skills_group_0  Oracle Cloud Infrastructure          False\n4    skills_group_0                       Spring          False\n..              ...                          ...            ...\n120  skills_group_9                   PostgreSQL          False\n121  skills_group_9                          AWS          False\n122  skills_group_9                       Docker          False\n123  skills_group_9                          Git          False\n124  skills_group_9                   Kubernetes          False\n\n[125 rows x 3 columns]",
      "text/html": "<div>\n<style scoped>\n    .dataframe tbody tr th:only-of-type {\n        vertical-align: middle;\n    }\n\n    .dataframe tbody tr th {\n        vertical-align: top;\n    }\n\n    .dataframe thead th {\n        text-align: right;\n    }\n</style>\n<table border=\"1\" class=\"dataframe\">\n  <thead>\n    <tr style=\"text-align: right;\">\n      <th></th>\n      <th>cluster_name</th>\n      <th>skill</th>\n      <th>sample_skills</th>\n    </tr>\n  </thead>\n  <tbody>\n    <tr>\n      <th>0</th>\n      <td>skills_group_0</td>\n      <td>Groovy</td>\n      <td>False</td>\n    </tr>\n    <tr>\n      <th>1</th>\n      <td>skills_group_0</td>\n      <td>Java</td>\n      <td>False</td>\n    </tr>\n    <tr>\n      <th>2</th>\n      <td>skills_group_0</td>\n      <td>Oracle</td>\n      <td>False</td>\n    </tr>\n    <tr>\n      <th>3</th>\n      <td>skills_group_0</td>\n      <td>Oracle Cloud Infrastructure</td>\n      <td>False</td>\n    </tr>\n    <tr>\n      <th>4</th>\n      <td>skills_group_0</td>\n      <td>Spring</td>\n      <td>False</td>\n    </tr>\n    <tr>\n      <th>...</th>\n      <td>...</td>\n      <td>...</td>\n      <td>...</td>\n    </tr>\n    <tr>\n      <th>120</th>\n      <td>skills_group_9</td>\n      <td>PostgreSQL</td>\n      <td>False</td>\n    </tr>\n    <tr>\n      <th>121</th>\n      <td>skills_group_9</td>\n      <td>AWS</td>\n      <td>False</td>\n    </tr>\n    <tr>\n      <th>122</th>\n      <td>skills_group_9</td>\n      <td>Docker</td>\n      <td>False</td>\n    </tr>\n    <tr>\n      <th>123</th>\n      <td>skills_group_9</td>\n      <td>Git</td>\n      <td>False</td>\n    </tr>\n    <tr>\n      <th>124</th>\n      <td>skills_group_9</td>\n      <td>Kubernetes</td>\n      <td>False</td>\n    </tr>\n  </tbody>\n</table>\n<p>125 rows × 3 columns</p>\n</div>"
     },
     "execution_count": 43,
     "metadata": {},
     "output_type": "execute_result"
    }
   ],
   "source": [
    "sample_clusters = clusters_df.copy()\n",
    "sample_clusters[\"sample_skills\"] = sample_clusters[\"skill\"].isin(sample_skills)\n",
    "sample_clusters"
   ]
  },
  {
   "cell_type": "code",
   "execution_count": 44,
   "id": "262b7f9f-9318-466f-bba8-861db1739d76",
   "metadata": {},
   "outputs": [
    {
     "data": {
      "text/plain": "cluster_name\nskills_group_0     0\nskills_group_1     2\nskills_group_10    0\nskills_group_11    0\nskills_group_12    0\nskills_group_13    0\nskills_group_14    0\nskills_group_15    0\nskills_group_16    0\nskills_group_17    0\nskills_group_18    0\nskills_group_19    0\nskills_group_2     0\nskills_group_20    0\nskills_group_21    0\nskills_group_22    3\nskills_group_3     0\nskills_group_4     0\nskills_group_5     0\nskills_group_6     0\nskills_group_7     0\nskills_group_8     0\nskills_group_9     0\nName: sample_skills, dtype: int64"
     },
     "execution_count": 44,
     "metadata": {},
     "output_type": "execute_result"
    }
   ],
   "source": [
    "cluster_features = sample_clusters.groupby(\"cluster_name\")[\"sample_skills\"].sum()\n",
    "cluster_features"
   ]
  },
  {
   "cell_type": "markdown",
   "id": "ec197a4b-4526-4e26-98c7-920f8e98fb7c",
   "metadata": {
    "tags": []
   },
   "source": [
    "### 2. Create OneHotEncoded skills"
   ]
  },
  {
   "cell_type": "code",
   "execution_count": 51,
   "id": "8c742f25-500d-48cb-8f9b-167da9902aa9",
   "metadata": {},
   "outputs": [
    {
     "data": {
      "text/plain": "0                     APL\n1                Assembly\n2              Bash/Shell\n3                       C\n4                      C#\n              ...        \n120                   Vim\n121         Visual Studio\n122    Visual Studio Code\n123              Webstorm\n124                 Xcode\nLength: 125, dtype: object"
     },
     "execution_count": 51,
     "metadata": {},
     "output_type": "execute_result"
    }
   ],
   "source": [
    "skills_names = features_names[~features_names.isin(cluster_features.index)]\n",
    "skills_names"
   ]
  },
  {
   "cell_type": "code",
   "execution_count": 55,
   "id": "3da1b14e-1772-4493-855f-db2f63b27c5f",
   "metadata": {},
   "outputs": [
    {
     "data": {
      "text/plain": "APL                   0\nAssembly              0\nBash/Shell            0\nC                     0\nC#                    0\n                     ..\nVim                   0\nVisual Studio         0\nVisual Studio Code    0\nWebstorm              0\nXcode                 0\nLength: 125, dtype: int64"
     },
     "execution_count": 55,
     "metadata": {},
     "output_type": "execute_result"
    }
   ],
   "source": [
    "ohe_skills = pd.Series(skills_names.isin(sample_skills).astype(int).tolist(), \n",
    "                       index=skills_names)\n",
    "ohe_skills"
   ]
  },
  {
   "cell_type": "markdown",
   "id": "10679807-6733-49f6-a6a5-b0d472f09b09",
   "metadata": {
    "tags": []
   },
   "source": [
    "### 3. Combine features"
   ]
  },
  {
   "cell_type": "code",
   "execution_count": 61,
   "id": "0f5dcb97-beb4-48df-99b5-f78794cfb36f",
   "metadata": {},
   "outputs": [],
   "source": [
    "# Concat\n",
    "features = pd.concat([ohe_skills,\n",
    "                      cluster_features])"
   ]
  },
  {
   "cell_type": "code",
   "execution_count": 62,
   "id": "6eb9d705-509e-44a5-b48f-8d5709179502",
   "metadata": {},
   "outputs": [
    {
     "data": {
      "text/plain": "APL               0\nAssembly          0\nBash/Shell        0\nC                 0\nC#                0\n                 ..\nskills_group_5    0\nskills_group_6    0\nskills_group_7    0\nskills_group_8    0\nskills_group_9    0\nLength: 148, dtype: int64"
     },
     "execution_count": 62,
     "metadata": {},
     "output_type": "execute_result"
    }
   ],
   "source": [
    "# Sort columns\n",
    "features = features.loc[features_names]\n",
    "features"
   ]
  },
  {
   "cell_type": "markdown",
   "id": "7151e391-62d6-4178-9d8a-b20d97f8e927",
   "metadata": {
    "tags": []
   },
   "source": [
    "### 4. Predict"
   ]
  },
  {
   "cell_type": "code",
   "execution_count": 69,
   "id": "2176c307-de94-405b-bc6a-edb1f6fa2ce0",
   "metadata": {},
   "outputs": [
    {
     "name": "stderr",
     "output_type": "stream",
     "text": [
      "[Parallel(n_jobs=8)]: Using backend ThreadingBackend with 8 concurrent workers.\n",
      "[Parallel(n_jobs=8)]: Done  34 tasks      | elapsed:    0.0s\n",
      "[Parallel(n_jobs=8)]: Done 100 out of 100 | elapsed:    0.0s finished\n"
     ]
    },
    {
     "data": {
      "text/plain": "Data scientist or machine learning specialist    0.70\nAcademic researcher                              0.24\nScientist                                        0.19\nEngineer, data                                   0.13\nData or business analyst                         0.12\nDeveloper, back-end                              0.12\nDeveloper, game or graphics                      0.04\nDeveloper, embedded applications or devices      0.03\nDeveloper, desktop or enterprise applications    0.02\nDatabase administrator                           0.01\nDeveloper, QA or test                            0.01\nDeveloper, front-end                             0.01\nDeveloper, full-stack                            0.01\nDevOps specialist                                0.00\nDeveloper, mobile                                0.00\nSystem administrator                             0.00\ndtype: float64"
     },
     "execution_count": 69,
     "metadata": {},
     "output_type": "execute_result"
    }
   ],
   "source": [
    "predictions = classifier.predict_proba([features.values])\n",
    "positive_probs = [prob[0][1] for prob in predictions]\n",
    "pd.Series(positive_probs, \n",
    "          index=targets_names).sort_values(ascending=False)"
   ]
  },
  {
   "cell_type": "code",
   "execution_count": null,
   "id": "3cdb7e2a-6600-4386-8bbb-eda1b4070634",
   "metadata": {},
   "outputs": [],
   "source": []
  }
 ],
 "metadata": {
  "kernelspec": {
   "display_name": "Python 3 (ipykernel)",
   "language": "python",
   "name": "python3"
  },
  "language_info": {
   "codemirror_mode": {
    "name": "ipython",
    "version": 3
   },
   "file_extension": ".py",
   "mimetype": "text/x-python",
   "name": "python",
   "nbconvert_exporter": "python",
   "pygments_lexer": "ipython3",
   "version": "3.8.8"
  }
 },
 "nbformat": 4,
 "nbformat_minor": 5
}